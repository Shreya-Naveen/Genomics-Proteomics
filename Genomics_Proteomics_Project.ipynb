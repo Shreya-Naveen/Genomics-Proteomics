{
  "nbformat": 4,
  "nbformat_minor": 0,
  "metadata": {
    "colab": {
      "provenance": [],
      "authorship_tag": "ABX9TyNHgB9vY28tpa3JYXT6f3wI",
      "include_colab_link": true
    },
    "kernelspec": {
      "name": "python3",
      "display_name": "Python 3"
    },
    "language_info": {
      "name": "python"
    }
  },
  "cells": [
    {
      "cell_type": "markdown",
      "metadata": {
        "id": "view-in-github",
        "colab_type": "text"
      },
      "source": [
        "<a href=\"https://colab.research.google.com/github/Shreya-Naveen/Genomics-Proteomics/blob/main/Genomics_Proteomics_Project.ipynb\" target=\"_parent\"><img src=\"https://colab.research.google.com/assets/colab-badge.svg\" alt=\"Open In Colab\"/></a>"
      ]
    },
    {
      "cell_type": "markdown",
      "source": [
        "FASTA"
      ],
      "metadata": {
        "id": "yc_TuMhHmHm-"
      }
    },
    {
      "cell_type": "code",
      "execution_count": null,
      "metadata": {
        "colab": {
          "base_uri": "https://localhost:8080/"
        },
        "id": "j2SNjq4vrlUF",
        "outputId": "68b0193c-6f96-4db2-93f1-52ffdd552559"
      },
      "outputs": [
        {
          "output_type": "stream",
          "name": "stdout",
          "text": [
            "Looking in indexes: https://pypi.org/simple, https://us-python.pkg.dev/colab-wheels/public/simple/\n",
            "Collecting BioPython\n",
            "  Downloading biopython-1.81-cp39-cp39-manylinux_2_17_x86_64.manylinux2014_x86_64.whl (3.1 MB)\n",
            "\u001b[2K     \u001b[90m━━━━━━━━━━━━━━━━━━━━━━━━━━━━━━━━━━━━━━━━\u001b[0m \u001b[32m3.1/3.1 MB\u001b[0m \u001b[31m54.9 MB/s\u001b[0m eta \u001b[36m0:00:00\u001b[0m\n",
            "\u001b[?25hRequirement already satisfied: numpy in /usr/local/lib/python3.9/dist-packages (from BioPython) (1.22.4)\n",
            "Installing collected packages: BioPython\n",
            "Successfully installed BioPython-1.81\n"
          ]
        }
      ],
      "source": [
        "!pip install BioPython"
      ]
    },
    {
      "cell_type": "code",
      "source": [
        "import Bio\n",
        "from Bio.Blast import NCBIWWW\n",
        "from Bio.Blast import NCBIXML\n",
        "from Bio.Seq import Seq\n",
        "import Bio.pairwise2\n",
        "from Bio.pairwise2 import format_alignment"
      ],
      "metadata": {
        "colab": {
          "base_uri": "https://localhost:8080/"
        },
        "id": "8Qv-x28iwNmn",
        "outputId": "7b7c833e-dcf8-4a24-abca-8d52562c4d3c"
      },
      "execution_count": null,
      "outputs": [
        {
          "output_type": "stream",
          "name": "stderr",
          "text": [
            "/usr/local/lib/python3.9/dist-packages/Bio/pairwise2.py:278: BiopythonDeprecationWarning: Bio.pairwise2 has been deprecated, and we intend to remove it in a future release of Biopython. As an alternative, please consider using Bio.Align.PairwiseAligner as a replacement, and contact the Biopython developers if you still need the Bio.pairwise2 module.\n",
            "  warnings.warn(\n"
          ]
        }
      ]
    },
    {
      "cell_type": "code",
      "source": [
        "fasta_string = open(\"/content/lambda_virus (1).fa\").read()"
      ],
      "metadata": {
        "id": "pD1L_dhnthWD"
      },
      "execution_count": null,
      "outputs": []
    },
    {
      "cell_type": "code",
      "source": [
        "result_handle = NCBIWWW.qblast(\"blastn\", \"nt\", fasta_string)"
      ],
      "metadata": {
        "id": "ReWUBXBBwb89"
      },
      "execution_count": null,
      "outputs": []
    },
    {
      "cell_type": "code",
      "source": [
        "blast_record = NCBIXML.read(result_handle)"
      ],
      "metadata": {
        "id": "5vftMuJxwjG6"
      },
      "execution_count": null,
      "outputs": []
    },
    {
      "cell_type": "code",
      "source": [
        "def reverseComplement(s):\n",
        "  complement = {'A' : 'T', 'T' : 'A', 'G' : 'C', 'C': 'G', 'N' : 'N'}\n",
        "  t = ''\n",
        "  for base in s:\n",
        "    t = complement[base] + t\n",
        "  return t\n"
      ],
      "metadata": {
        "id": "0x3f2pdazmuU"
      },
      "execution_count": null,
      "outputs": []
    },
    {
      "cell_type": "code",
      "source": [
        "def naive(read,genome):\n",
        "  p_rev = reverseComplement(read)\n",
        "  occurences=[]\n",
        "  for i in range(len(genome)-len(read)+1):\n",
        "    match= True\n",
        "    for j in range(len(read)):\n",
        "      if not genome[i+j]==read[j]:\n",
        "        match=False\n",
        "        break\n",
        "    if not match:\n",
        "            match = True\n",
        "            for j in range(len(read)):\n",
        "                if genome[i + j] != p_rev[j]:\n",
        "                    match = False\n",
        "                    break\n",
        "    if match:\n",
        "      occurences.append(i)\n",
        "  return occurences"
      ],
      "metadata": {
        "id": "6jUZNYvxBxbJ"
      },
      "execution_count": null,
      "outputs": []
    },
    {
      "cell_type": "code",
      "source": [
        "print(len(naive('TTAA',fasta_string )))"
      ],
      "metadata": {
        "colab": {
          "base_uri": "https://localhost:8080/"
        },
        "id": "aSFW1v75AjAV",
        "outputId": "8a030ce3-5750-43fd-9267-12cbd6948827"
      },
      "execution_count": null,
      "outputs": [
        {
          "output_type": "stream",
          "name": "stdout",
          "text": [
            "191\n"
          ]
        }
      ]
    },
    {
      "cell_type": "code",
      "source": [
        "print(min(naive('AGTCGA',fasta_string ))) #offset"
      ],
      "metadata": {
        "colab": {
          "base_uri": "https://localhost:8080/"
        },
        "id": "ZqEpi7_XBbNd",
        "outputId": "7825d5aa-fa61-46aa-e512-703fdcd47867"
      },
      "execution_count": null,
      "outputs": [
        {
          "output_type": "stream",
          "name": "stdout",
          "text": [
            "530\n"
          ]
        }
      ]
    },
    {
      "cell_type": "code",
      "source": [
        "print(max(naive('AGTCGA',fasta_string)))"
      ],
      "metadata": {
        "colab": {
          "base_uri": "https://localhost:8080/"
        },
        "id": "xPbE7TqcBik-",
        "outputId": "97fe2f08-3bc5-40e8-a6ad-c23aea2ed988"
      },
      "execution_count": null,
      "outputs": [
        {
          "output_type": "stream",
          "name": "stdout",
          "text": [
            "46091\n"
          ]
        }
      ]
    },
    {
      "cell_type": "code",
      "source": [
        "def readGenome(filename):\n",
        "  genome=''\n",
        "  with open(filename,'r') as f:\n",
        "    for line in f:\n",
        "      if not line[0]== '>':\n",
        "        genome+=line.rstrip()       #rstrip removes trailing whitespaces\n",
        "  return genome\n",
        "\n",
        "filename='/content/lambda_virus (1).fa'\n",
        "genome=readGenome(filename)\n"
      ],
      "metadata": {
        "id": "8iFI2P8wGivc"
      },
      "execution_count": null,
      "outputs": []
    },
    {
      "cell_type": "code",
      "source": [
        "counts={'A':0,'T':0,'G':0,'C':0,'N':0}\n",
        "for base in genome:\n",
        "  counts[base]+=1\n",
        "print(counts)"
      ],
      "metadata": {
        "colab": {
          "base_uri": "https://localhost:8080/"
        },
        "id": "bkvCQY-ZHEoS",
        "outputId": "b601e032-e243-4f9d-8da3-a6d3abd90ce7"
      },
      "execution_count": null,
      "outputs": [
        {
          "output_type": "stream",
          "name": "stdout",
          "text": [
            "{'A': 12334, 'T': 11986, 'G': 12820, 'C': 11362, 'N': 0}\n"
          ]
        }
      ]
    },
    {
      "cell_type": "markdown",
      "source": [
        "BY ANALYSIS IT IS CERTAIN THAT THE GIVEN LAMBDA VIRUS SEQUENCE IS AT RICH.\n",
        "THIS IMPLIES THAT:\n",
        "\n",
        "*   The AT-rich DNA is mostly associated with condensed chromatin\n",
        "*   The AT-rich genes are prone to be tissue-specific (silenced in most tissues) due to the condensing causing to potentially act as heterochromatin\n",
        "* Infection of the lambda virus in a bacteria: Host DNA gyrase puts negative supercoils in the circular chromosome, causing A-T rich regions to unwind and drive transcription.   \n",
        "\n",
        "\n",
        "\n",
        "\n",
        "\n",
        "\n"
      ],
      "metadata": {
        "id": "Z17F3fLPJWOZ"
      }
    },
    {
      "cell_type": "code",
      "source": [
        "def my_naive(read, genome):\n",
        "    occurrences = []\n",
        "    for i in range(len(genome) - len(read) + 1):\n",
        "        count_mismatch = 0\n",
        "        for j in range(len(read)):\n",
        "            if genome[i+j] != read[j]:\n",
        "                count_mismatch += 1\n",
        "        if count_mismatch <= 3:\n",
        "            occurrences.append(i)\n",
        "    return occurrences"
      ],
      "metadata": {
        "id": "7ijNbugRSKIo"
      },
      "execution_count": null,
      "outputs": []
    },
    {
      "cell_type": "code",
      "source": [
        "print(min(naive('AGTCGA',genome ))) #offset"
      ],
      "metadata": {
        "colab": {
          "base_uri": "https://localhost:8080/"
        },
        "id": "5_cK5kZpZo2B",
        "outputId": "4cf0ece8-81c0-4934-a2ff-de8c00bba693"
      },
      "execution_count": null,
      "outputs": [
        {
          "output_type": "stream",
          "name": "stdout",
          "text": [
            "450\n"
          ]
        }
      ]
    },
    {
      "cell_type": "markdown",
      "source": [
        "Mismatch has the potential to come up with more accurate and precise matches of the read sequence to the genome. The exact matches can be detected by first filtering out the possible minor mismatches which occur\n",
        "\n",
        "\n",
        "\n",
        "*   Without using a mismatch, the offset of AGTCGA was detected at the 530 while with the introduction of the mismatch of 3 for every occurence, the same was shifted to the 430th position. My inference of the same is that probably, my introducing mismatches, querying occurs more efficiently to detect the required sequence offset thus giving a better outcome with a better result which could potentially affect the interpretation of genomes of certain organisms\n",
        "\n",
        "\n"
      ],
      "metadata": {
        "id": "gmDqw0TFdek5"
      }
    },
    {
      "cell_type": "markdown",
      "source": [
        "\n",
        "\n",
        "\n",
        "\n",
        "\n",
        "FASTQ"
      ],
      "metadata": {
        "id": "LA5q6vKYiYrN"
      }
    },
    {
      "cell_type": "code",
      "source": [
        "def readFastq(filename):\n",
        "    sequences = []\n",
        "    qualities = []\n",
        "    with open(\"/content/ERR037900_1.first1000 (1).fastq\") as f:\n",
        "        while True:\n",
        "            f.readline() #first line is nothign much\n",
        "            seq = f.readline().rstrip()\n",
        "            f.readline() # just the + sign\n",
        "            qual = f.readline().rstrip()\n",
        "            if len(seq) == 0: #end of file\n",
        "                break\n",
        "            sequences.append(seq)\n",
        "            qualities.append(qual)\n",
        "    return sequences, qualities\n",
        "seqs, quals = readFastq(\"/content/ERR037900_1.first1000.fastq\")\n",
        "\n",
        "def phred33ToQ(qual):\n",
        "    return ord(qual) - 33"
      ],
      "metadata": {
        "id": "2q2hddikhCVH"
      },
      "execution_count": null,
      "outputs": []
    },
    {
      "cell_type": "code",
      "source": [
        "def createHist(qualities):\n",
        "    hist = [0] * 50\n",
        "    for qual in qualities:\n",
        "        for phred in qual:\n",
        "            q = phred33ToQ(phred)\n",
        "            hist[q] += 1\n",
        "    return hist\n",
        "\n",
        "%matplotlib inline\n",
        "import matplotlib.pyplot as plt\n",
        "h = createHist(quals)\n",
        "plt.bar(range(len(h)), h)\n",
        "plt.show()"
      ],
      "metadata": {
        "colab": {
          "base_uri": "https://localhost:8080/",
          "height": 430
        },
        "id": "ydaXY8xfjGf-",
        "outputId": "79dfcdad-1ade-41e1-b6b1-8e72fb988f33"
      },
      "execution_count": null,
      "outputs": [
        {
          "output_type": "display_data",
          "data": {
            "text/plain": [
              "<Figure size 640x480 with 1 Axes>"
            ],
            "image/png": "[encoded data removed]"
          },
          "metadata": {}
        }
      ]
    },
    {
      "cell_type": "markdown",
      "source": [
        "Yes, there are poor sequencing reads in the fastq file. we know that lesser the quality score, lower is the chance that the sequence is correct. Thus we can conclud from the graph too that, the lines closer to origin on x axis correspond to lower quality scores which inturn point out that these are the poor sequncing reads in the fastq file"
      ],
      "metadata": {
        "id": "Lj4x6f1plOcY"
      }
    },
    {
      "cell_type": "markdown",
      "source": [
        "NAIVE EXACT MATCHING"
      ],
      "metadata": {
        "id": "nnArA3WJtH3N"
      }
    },
    {
      "cell_type": "code",
      "source": [
        "def readGenome(filename):\n",
        "  genome = ''\n",
        "  with open(filename, 'r') as f:\n",
        "    for line in f:\n",
        "      if not line[0] == '>':\n",
        "        genome += line.rstrip() #removes trailing whitespaces\n",
        "  return genome\n",
        "\n",
        "filename = '/content/chr1.GRCh38.excerpt.fasta'\n",
        "genome = readGenome(filename)"
      ],
      "metadata": {
        "id": "x6D9ANCtpD-5"
      },
      "execution_count": null,
      "outputs": []
    },
    {
      "cell_type": "code",
      "source": [
        "def naive_with_counts(read, genome):\n",
        "\n",
        "    count_align = 0\n",
        "    for i in range(len(genome) - len(read) + 1):\n",
        "        count_align += 1\n",
        "        match = True\n",
        "        for j in range(len(read)):\n",
        "\n",
        "            if genome[i+j] != [j]:\n",
        "                match = False\n",
        "                break\n",
        "\n",
        "    return count_align"
      ],
      "metadata": {
        "id": "O9XjEgzhpMMe"
      },
      "execution_count": null,
      "outputs": []
    },
    {
      "cell_type": "code",
      "source": [
        "genome_file = '/content/chr1.GRCh38.excerpt.fasta'\n",
        "\n",
        "genome = readGenome(genome_file)\n",
        "read = 'GGCGCGGTGGCTCACGCCTGTAATCCCAGCACTTTGGGAGGCCGAGG'\n",
        "num_alignments= naive_with_counts(read, genome)\n",
        "print(\" Number of alignments\\n\",num_alignments )"
      ],
      "metadata": {
        "colab": {
          "base_uri": "https://localhost:8080/"
        },
        "id": "E2Zgurhjql_Z",
        "outputId": "640ab196-81e6-4481-ebce-12f3e0c29b8f"
      },
      "execution_count": null,
      "outputs": [
        {
          "output_type": "stream",
          "name": "stdout",
          "text": [
            " Number of alignments\n",
            " 799954\n"
          ]
        }
      ]
    },
    {
      "cell_type": "markdown",
      "source": [
        "BOYRE MOORE ALOGORITHM"
      ],
      "metadata": {
        "id": "fMtAUQl0pkfV"
      }
    },
    {
      "cell_type": "code",
      "source": [
        "import string\n",
        "\n",
        "def z_array(s):\n",
        "    assert len(s) > 1\n",
        "    z = [len(s)] + [0] * (len(s)-1)\n",
        "    # Initial comparison of s[1:] with prefix\n",
        "    for i in range(1, len(s)):\n",
        "        if s[i] == s[i-1]:\n",
        "            z[1] += 1\n",
        "        else:\n",
        "            break\n",
        "    r, l = 0, 0\n",
        "    if z[1] > 0:\n",
        "        r, l = z[1], 1\n",
        "    for k in range(2, len(s)):\n",
        "        assert z[k] == 0\n",
        "        if k > r:\n",
        "            # Case 1\n",
        "            for i in range(k, len(s)):\n",
        "                if s[i] == s[i-k]:\n",
        "                    z[k] += 1\n",
        "                else:\n",
        "                    break\n",
        "            r, l = k + z[k] - 1, k\n",
        "        else:\n",
        "            # Case 2\n",
        "            # Calculate length of beta\n",
        "            nbeta = r - k + 1\n",
        "            zkp = z[k - l]\n",
        "            if nbeta > zkp:\n",
        "                # Case 2a: Zkp wins\n",
        "                z[k] = zkp\n",
        "            else:\n",
        "                # Case 2b: Compare characters just past r\n",
        "                nmatch = 0\n",
        "                for i in range(r+1, len(s)):\n",
        "                    if s[i] == s[i - k]:\n",
        "                        nmatch += 1\n",
        "                    else:\n",
        "                        break\n",
        "                l, r = k, r + nmatch\n",
        "                z[k] = r - k + 1\n",
        "    return z"
      ],
      "metadata": {
        "id": "GMP5m-0dtROi"
      },
      "execution_count": null,
      "outputs": []
    },
    {
      "cell_type": "code",
      "source": [
        "def n_array(s):\n",
        "    \"\"\" Compile the N array (Gusfield theorem 2.2.2) from the Z array \"\"\"\n",
        "    return z_array(s[::-1])[::-1]"
      ],
      "metadata": {
        "id": "QzjxJ6F3vmUQ"
      },
      "execution_count": null,
      "outputs": []
    },
    {
      "cell_type": "code",
      "source": [
        "def big_l_prime_array(p, n):\n",
        "    \"\"\" Compile L' array (Gusfield theorem 2.2.2) using p and N array.\n",
        "        L'[i] = largest index j less than n such that N[j] = |P[i:]| \"\"\"\n",
        "    lp = [0] * len(p)\n",
        "    for j in range(len(p)-1):\n",
        "        i = len(p) - n[j]\n",
        "        if i < len(p):\n",
        "            lp[i] = j + 1\n",
        "    return lp"
      ],
      "metadata": {
        "id": "FOYC-pgHvqWh"
      },
      "execution_count": null,
      "outputs": []
    },
    {
      "cell_type": "code",
      "source": [
        "def big_l_array(p, lp):\n",
        "    \"\"\" Compile L array (Gusfield theorem 2.2.2) using p and L' array.\n",
        "        L[i] = largest index j less than n such that N[j] >= |P[i:]| \"\"\"\n",
        "    l = [0] * len(p)\n",
        "    l[1] = lp[1]\n",
        "    for i in range(2, len(p)):\n",
        "        l[i] = max(l[i-1], lp[i])\n",
        "    return l"
      ],
      "metadata": {
        "id": "V9qt7abNvrPm"
      },
      "execution_count": null,
      "outputs": []
    },
    {
      "cell_type": "code",
      "source": [
        "def small_l_prime_array(n):\n",
        "    \"\"\" Compile lp' array (Gusfield theorem 2.2.4) using N array. \"\"\"\n",
        "    small_lp = [0] * len(n)\n",
        "    for i in range(len(n)):\n",
        "        if n[i] == i+1:  # prefix matching a suffix\n",
        "            small_lp[len(n)-i-1] = i+1\n",
        "    for i in range(len(n)-2, -1, -1):  # \"smear\" them out to the left\n",
        "        if small_lp[i] == 0:\n",
        "            small_lp[i] = small_lp[i+1]\n",
        "    return small_lp"
      ],
      "metadata": {
        "id": "SEq-__sTvtE6"
      },
      "execution_count": null,
      "outputs": []
    },
    {
      "cell_type": "code",
      "source": [
        "def good_suffix_table(p):\n",
        "    \"\"\" Return tables needed to apply good suffix rule. \"\"\"\n",
        "    n = n_array(p)\n",
        "    lp = big_l_prime_array(p, n)\n",
        "    return lp, big_l_array(p, lp), small_l_prime_array(n)"
      ],
      "metadata": {
        "id": "SIe54xCCvwdo"
      },
      "execution_count": null,
      "outputs": []
    },
    {
      "cell_type": "code",
      "source": [
        "def good_suffix_mismatch(i, big_l_prime, small_l_prime):\n",
        "    \"\"\" Given a mismatch at offset i, and given L/L' and l' arrays,\n",
        "        return amount to shift as determined by good suffix rule. \"\"\"\n",
        "    length = len(big_l_prime)\n",
        "    assert i < length\n",
        "    if i == length - 1:\n",
        "        return 0\n",
        "    i += 1  # i points to leftmost matching position of P\n",
        "    if big_l_prime[i] > 0:\n",
        "        return length - big_l_prime[i]\n",
        "    return length - small_l_prime[i]\n"
      ],
      "metadata": {
        "id": "AuGoLkUvvyeP"
      },
      "execution_count": null,
      "outputs": []
    },
    {
      "cell_type": "code",
      "source": [
        "def good_suffix_match(small_l_prime):\n",
        "    \"\"\" Given a full match of P to T, return amount to shift as\n",
        "        determined by good suffix rule. \"\"\"\n",
        "    return len(small_l_prime) - small_l_prime[1]"
      ],
      "metadata": {
        "id": "PZKVxvauvzWr"
      },
      "execution_count": null,
      "outputs": []
    },
    {
      "cell_type": "code",
      "source": [
        "def dense_bad_char_tab(p, amap):\n",
        "    \"\"\" Given pattern string and list with ordered alphabet characters, create\n",
        "        and return a dense bad character table.  Table is indexed by offset\n",
        "        then by character. \"\"\"\n",
        "    tab = []\n",
        "    nxt = [0] * len(amap)\n",
        "    for i in range(0, len(p)):\n",
        "        c = p[i]\n",
        "        assert c in amap\n",
        "        tab.append(nxt[:])\n",
        "        nxt[amap[c]] = i+1\n",
        "    return tab"
      ],
      "metadata": {
        "id": "4hpNIyHMv2lB"
      },
      "execution_count": null,
      "outputs": []
    },
    {
      "cell_type": "code",
      "source": [
        "class BoyerMoore(object):\n",
        "    \"\"\" Encapsulates pattern and associated Boyer-Moore preprocessing. \"\"\"\n",
        "\n",
        "    def __init__(self, p, alphabet='ACGT'):\n",
        "        self.p = p\n",
        "        self.alphabet = alphabet\n",
        "        # Create map from alphabet characters to integers\n",
        "        self.amap = {}\n",
        "        for i in range(len(self.alphabet)):\n",
        "            self.amap[self.alphabet[i]] = i\n",
        "        # Make bad character rule table\n",
        "        self.bad_char = dense_bad_char_tab(p, self.amap)\n",
        "        # Create good suffix rule table\n",
        "        _, self.big_l, self.small_l_prime = good_suffix_table(p)\n",
        "\n",
        "    def bad_character_rule(self, i, c):\n",
        "        \"\"\" Return # skips given by bad character rule at offset i \"\"\"\n",
        "        assert c in self.amap\n",
        "        ci = self.amap[c]\n",
        "        assert i > (self.bad_char[i][ci]-1)\n",
        "        return i - (self.bad_char[i][ci]-1)\n",
        "\n",
        "    def good_suffix_rule(self, i):\n",
        "        \"\"\" Given a mismatch at offset i, return amount to shift\n",
        "            as determined by (weak) good suffix rule. \"\"\"\n",
        "        length = len(self.big_l)\n",
        "        assert i < length\n",
        "        if i == length - 1:\n",
        "            return 0\n",
        "        i += 1  # i points to leftmost matching position of P\n",
        "        if self.big_l[i] > 0:\n",
        "            return length - self.big_l[i]\n",
        "        return length - self.small_l_prime[i]\n",
        "\n",
        "    def match_skip(self):\n",
        "        \"\"\" Return amount to shift in case where P matches T \"\"\"\n",
        "        return len(self.small_l_prime) - self.small_l_prime[1]"
      ],
      "metadata": {
        "id": "TUMpjIp1v6-A"
      },
      "execution_count": null,
      "outputs": []
    },
    {
      "cell_type": "code",
      "source": [
        "def boyer_moore_with_counts(p, p_bm, t):\n",
        "    i = 0\n",
        "    #occurrences = []\n",
        "    #count_chr = 0\n",
        "    count_align = 0\n",
        "    while i < len(t) - len(p) + 1:\n",
        "        count_align += 1\n",
        "        shift = 1\n",
        "        mismatched = False\n",
        "        for j in range(len(p)-1, -1, -1):\n",
        "            #count_chr += 1\n",
        "            if p[j] != t[i+j]:\n",
        "                skip_bc = p_bm.bad_character_rule(j, t[i+j])\n",
        "                skip_gs = p_bm.good_suffix_rule(j)\n",
        "                shift = max(shift, skip_bc, skip_gs)\n",
        "                mismatched = True\n",
        "                break\n",
        "\n",
        "            skip_gs = p_bm.match_skip()\n",
        "            shift = max(shift, skip_gs)\n",
        "        i += shift\n",
        "    return  count_align"
      ],
      "metadata": {
        "id": "svBTxPNKwAAf"
      },
      "execution_count": null,
      "outputs": []
    },
    {
      "cell_type": "code",
      "source": [
        "genome_file = '/content/chr1.GRCh38.excerpt.fasta'\n",
        "\n",
        "t = readGenome(genome_file)\n",
        "p = 'GGCGCGGTGGCTCACGCCTGTAATCCCAGCACTTTGGGAGGCCGAGG'\n",
        "p_bm = BoyerMoore(p, alphabet='ACGT')\n",
        "num_alignments= boyer_moore_with_counts(p, p_bm, t)\n",
        "print(\" number of alignments \\n\",  num_alignments)"
      ],
      "metadata": {
        "colab": {
          "base_uri": "https://localhost:8080/"
        },
        "id": "TxluUlq-wETI",
        "outputId": "4163ca3c-04d0-471f-91a3-02191948d118"
      },
      "execution_count": null,
      "outputs": [
        {
          "output_type": "stream",
          "name": "stdout",
          "text": [
            " number of alignments \n",
            " 61270\n"
          ]
        }
      ]
    },
    {
      "cell_type": "markdown",
      "source": [
        "1.   Number of alignments with respect to naive pattern matching:799954\n",
        "2.   Number of alignments with respect to Boyre Moore: 61270\n",
        "* From the data, we can say that Boyre Moore algorithm is better for the reason that The Boyer Moore algorithm does preprocessing.\n",
        "* It processes the pattern and creates different arrays for each of the two(bad character and good suffix). At every step, it slides the pattern by the max of the slides suggested by each of the two. So it uses greatest offset suggested by the two at every step.\n",
        "* Unlike Naive pattern matching, where we slide the pattern over the text one by one, we here skip the sequences which are not there in the read, thus making the process of querying faster\n",
        "* Also, by considering the minor mismatches which may occur too, Boyre Moore algorithm has a potential of giving a more accurately queried output for the number of alignments\n",
        "\n",
        "\n",
        "\n",
        "\n",
        "\n"
      ],
      "metadata": {
        "id": "4wkuKEEF8iPf"
      }
    },
    {
      "cell_type": "markdown",
      "source": [
        "k-MER INDEXING"
      ],
      "metadata": {
        "id": "Q5wn8pgVUtKO"
      }
    },
    {
      "cell_type": "code",
      "source": [
        "import bisect\n",
        "\n",
        "class SubseqIndex(object):\n",
        "    \"\"\" Holds a subsequence index for a text T \"\"\"\n",
        "\n",
        "    def __init__(self, t, k, ival):\n",
        "        \"\"\" Create index from all subsequences consisting of k characters\n",
        "            spaced ival positions apart.  E.g., SubseqIndex(\"ATAT\", 2, 2)\n",
        "            extracts (\"AA\", 0) and (\"TT\", 1). \"\"\"\n",
        "        self.k = k  # num characters per subsequence extracted\n",
        "        self.ival = ival  # space between them; 1=adjacent, 2=every other, etc\n",
        "        self.index = []\n",
        "        self.span = 1 + ival * (k - 1)\n",
        "        for i in range(len(t) - self.span + 1):  # for each subseq\n",
        "            self.index.append((t[i:i+self.span:ival], i))  # add (subseq, offset)\n",
        "        self.index.sort()  # alphabetize by subseq\n",
        "\n",
        "    def query(self, p):\n",
        "        \"\"\" Return index hits for first subseq of p \"\"\"\n",
        "        subseq = p[:self.span:self.ival]  # query with first subseq\n",
        "        i = bisect.bisect_left(self.index, (subseq, -1))  # binary search\n",
        "        hits = []\n",
        "        while i < len(self.index):  # collect matching index entries\n",
        "            if self.index[i][0] != subseq:\n",
        "                break\n",
        "            hits.append(self.index[i][1])\n",
        "            i += 1\n",
        "        return hits"
      ],
      "metadata": {
        "id": "B_9Xa7KX9BkD"
      },
      "execution_count": null,
      "outputs": []
    },
    {
      "cell_type": "code",
      "source": [
        "genome_file = '/content/chr1.GRCh38.excerpt.fasta'\n",
        "\n",
        "t = readGenome(genome_file)\n",
        "p = 'GGCGCGGTGGCTCACGCCTGTAATCCCAGCACTTTGGGAGGCCGAGG'\n",
        "ind=SubseqIndex(t,8,3)\n",
        "print(ind.query(p))\n"
      ],
      "metadata": {
        "colab": {
          "base_uri": "https://localhost:8080/"
        },
        "id": "3RUQc8ZnCCGO",
        "outputId": "2f2d6012-509e-4849-f6ae-4ae1610df7e2"
      },
      "execution_count": null,
      "outputs": [
        {
          "output_type": "stream",
          "name": "stdout",
          "text": [
            "[56922, 67486, 83863, 84641, 84775, 124024, 147558, 191452, 199607, 262042, 262174, 273669, 322735, 364263, 421354, 454332, 465647, 471966, 472634, 489019, 558456, 579737, 596898, 635931, 651523, 657496, 658702, 681737, 707151, 712449, 717706, 719418, 719557, 746620, 747359]\n"
          ]
        }
      ]
    },
    {
      "cell_type": "markdown",
      "source": [
        "EDIT DISTANCE DYNAMIC PROGRAMMING"
      ],
      "metadata": {
        "id": "MsTqny5chR0a"
      }
    },
    {
      "cell_type": "code",
      "source": [
        "def editDistance(x, y):\n",
        "  D = []\n",
        "  for i in range(len(x) + 1):\n",
        "    D.append([0] * (len(y) + 1))\n",
        "  for i in range(len(x) + 1):\n",
        "    D[i][0] = i\n",
        "  for i in range(len(y) + 1):\n",
        "    D[0][i] = i\n",
        "  for i in range(1, len(x) + 1):\n",
        "    for j in range(1, len(y) + 1):\n",
        "      distHor = D[i][j-1] + 1\n",
        "      distVer = D[i-1][j] + 1\n",
        "      if x[i-1] == y[j-1]:\n",
        "        distDiag = D[i-1][j-1]\n",
        "      else:\n",
        "        distDiag = D[i-1][j-1] + 1\n",
        "      D[i][j] = min(distHor, distVer, distDiag)\n",
        "  return D[-1][-1]"
      ],
      "metadata": {
        "id": "PExCQearU1Bj"
      },
      "execution_count": null,
      "outputs": []
    },
    {
      "cell_type": "code",
      "source": [
        "x = 'GATAGCGATTCGCGCGAGTGT'\n",
        "y = 'TACTGTATATCTGATCTAACGGTC'\n",
        "print(editDistance(x, y))"
      ],
      "metadata": {
        "colab": {
          "base_uri": "https://localhost:8080/"
        },
        "id": "CL6u22XIfI-u",
        "outputId": "2fa46237-6fe9-4ddf-8f41-ca73cb8f4189"
      },
      "execution_count": null,
      "outputs": [
        {
          "output_type": "stream",
          "name": "stdout",
          "text": [
            "14\n"
          ]
        }
      ]
    },
    {
      "cell_type": "markdown",
      "source": [
        "EDIT DISTANCE AND GLOBAL ALIGNMENT"
      ],
      "metadata": {
        "id": "4PQ-NNgopbJU"
      }
    },
    {
      "cell_type": "markdown",
      "source": [
        "\n",
        "\n",
        "\n",
        "\n",
        "*  EDIT DISTANCE IS DEFINED AS THE MINIMUM NUMBER OF EDITS TO MAKE ONE STRING, SAY X, CONVERT INTO ANOTHER STRING, SAY Y. THE EDITS CAN BE OF THE FORM OF INSERTIONS, DELETIONS OR SUBSTITUTIONS. HERE THE LIKELIHOOD OF A DELETION, INSERTION OR SUBSTITUTION ARE ALL EQUAL.\n",
        "\n",
        "eD(αC, βA)=min   {eD(α, β)+1\n",
        "                 eD(αC, β)+1\n",
        "                 eD(α, βA)+1}\n",
        "\n",
        "* GLOBAL ALIGNMENT IS DEFINED AS THE EDIT DISTANCE BUT WITH THE CONSIDERATION OF THE FACT THAT THE EDITS ARE NOT EQUALLY LIKELY TO OCCUR. THUS, A PENALIZATION MATRIX IS CONSTRUCTED AND BASED ON THE PENALTY INCURRED, THE FINAL EDIT DISTANCE IS CALCULATED TAKING INTO CONSIDERATION THE PENALTY TOO.\n",
        "\n",
        "galign(αx, βy)=min  { galign(α, β)+p(x,y)\n",
        "                     galign(αC, β)+p(x,-)\n",
        "                     galign(α, βA)+p(-,y)}\n",
        "\n",
        "\n",
        "\n",
        "\n"
      ],
      "metadata": {
        "id": "SOxFOj4iooPY"
      }
    }
  ]
}